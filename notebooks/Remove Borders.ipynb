{
 "cells": [
  {
   "cell_type": "code",
   "execution_count": 4,
   "metadata": {},
   "outputs": [],
   "source": [
    "import cv2\n",
    "import matplotlib.pyplot as plt\n",
    "import os"
   ]
  },
  {
   "cell_type": "code",
   "execution_count": 61,
   "metadata": {},
   "outputs": [],
   "source": [
    "def crop_biggest(imgPath, outPath, threshold = 50, resize=True):\n",
    "    img = cv2.imread(imgPath, 1)\n",
    "    file_name = os.path.basename(imgPath)\n",
    "    rgbimg = cv2.cvtColor(img, cv2.COLOR_HSV2RGB)\n",
    "    image_gray = cv2.cvtColor(rgbimg, cv2.COLOR_BGR2GRAY)\n",
    "    _,threshold = cv2.threshold(image_gray, 50, 255,0)\n",
    "    \n",
    "    contours, hierarchy = cv2.findContours(threshold, cv2.RETR_LIST, cv2.CHAIN_APPROX_SIMPLE)\n",
    "    contour_sizes = [(cv2.contourArea(contour), contour) for contour in contours]\n",
    "    \n",
    "    biggest_contour = max(contour_sizes, key=lambda x: x[0])[1]\n",
    "    x, y, w, h = cv2.boundingRect(biggest_contour)\n",
    "    roi = img[y  :y + h, x : x + w ]\n",
    "    \n",
    "    if resize:    \n",
    "        scale_percent = 25\n",
    "        width = int(roi.shape[1] * scale_percent / 100)\n",
    "        height = int(roi.shape[0] * scale_percent / 100)\n",
    "\n",
    "        # dsize\n",
    "        dsize = (width, height)\n",
    "\n",
    "        # resize image\n",
    "        roi = cv2.resize(roi, dsize)\n",
    "    \n",
    "    export_file_name = (f\"{file_name}_crop.jpg\")\n",
    "    export_path = os.path.join(outPath, export_file_name)\n",
    "    cv2.imwrite(export_path, roi)"
   ]
  },
  {
   "cell_type": "code",
   "execution_count": 64,
   "metadata": {},
   "outputs": [],
   "source": [
    "def main():\n",
    "    outPath = \"./results/\"\n",
    "    path = \"../../../../Downloads/noord-hollandsarchief-d2fcde/\"\n",
    "    \n",
    "    if not os.path.exists(outPath):\n",
    "        os.makedirs(outPath)\n",
    "\n",
    "    for subdir, dirs, files in os.walk(path):\n",
    "        for image in files:\n",
    "             if image.endswith(\".jpg\"):\n",
    "                    imgPath = os.path.join(subdir, image)\n",
    "                    subdir_ = subdir.split('/')[-1:][0]\n",
    "                    outPath_ = os.path.join(outPath, subdir_ )\n",
    "                    if not os.path.exists(outPath_):\n",
    "                        os.makedirs(outPath_)\n",
    "                    crop_biggest(imgPath, outPath_)     \n",
    "\n",
    "if __name__ == '__main__':\n",
    "    main()"
   ]
  },
  {
   "cell_type": "code",
   "execution_count": null,
   "metadata": {},
   "outputs": [],
   "source": []
  }
 ],
 "metadata": {
  "kernelspec": {
   "display_name": "Python 3",
   "language": "python",
   "name": "python3"
  },
  "language_info": {
   "codemirror_mode": {
    "name": "ipython",
    "version": 3
   },
   "file_extension": ".py",
   "mimetype": "text/x-python",
   "name": "python",
   "nbconvert_exporter": "python",
   "pygments_lexer": "ipython3",
   "version": "3.8.7"
  }
 },
 "nbformat": 4,
 "nbformat_minor": 4
}
