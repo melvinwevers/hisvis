{
 "cells": [
  {
   "cell_type": "code",
   "execution_count": 35,
   "metadata": {},
   "outputs": [],
   "source": [
    "import cv2\n",
    "import matplotlib.pyplot as plt\n",
    "import os"
   ]
  },
  {
   "cell_type": "code",
   "execution_count": 70,
   "metadata": {},
   "outputs": [],
   "source": [
    "def crop_biggest(imgPath, outPath, threshold = 50, resize=True):\n",
    "    img = cv2.imread(imgPath, 1)\n",
    "    file_name = os.path.basename(imgPath)\n",
    "    rgbimg = cv2.cvtColor(img, cv2.COLOR_HSV2RGB)\n",
    "    image_gray = cv2.cvtColor(rgbimg, cv2.COLOR_BGR2GRAY)\n",
    "    \n",
    "    w = 0\n",
    "    h = 0\n",
    "    \n",
    "    while w < 3000 or h < 2300:  \n",
    "        _, threshold_ = cv2.threshold(image_gray, threshold, 255,0)\n",
    "\n",
    "        contours, hierarchy = cv2.findContours(threshold_, cv2.RETR_LIST, cv2.CHAIN_APPROX_SIMPLE)\n",
    "        contour_sizes = [(cv2.contourArea(contour), contour) for contour in contours]\n",
    "\n",
    "        biggest_contour = max(contour_sizes, key=lambda x: x[0])[1]\n",
    "        x, y, w, h = cv2.boundingRect(biggest_contour)\n",
    "\n",
    "        threshold -= 1\n",
    "\n",
    "\n",
    "    if w > 3600 or h > 2500:\n",
    "        mistakes.append(file_name)\n",
    "        pass\n",
    "        \n",
    "    roi = img[y  :y + h, x : x + w ]\n",
    "\n",
    "    \n",
    "    if resize:    \n",
    "        scale_percent = 25\n",
    "        width = int(roi.shape[1] * scale_percent / 100)\n",
    "        height = int(roi.shape[0] * scale_percent / 100)\n",
    "\n",
    "        # dsize\n",
    "        dsize = (width, height)\n",
    "\n",
    "        # resize image\n",
    "        roi = cv2.resize(roi, dsize)\n",
    "    \n",
    "    export_file_name = (f\"{file_name}_crop.jpg\")\n",
    "    export_path = os.path.join(outPath, export_file_name)\n",
    "    cv2.imwrite(export_path, roi)"
   ]
  },
  {
   "cell_type": "code",
   "execution_count": null,
   "metadata": {},
   "outputs": [],
   "source": [
    "mistakes = []\n",
    "\n",
    "def main():\n",
    "    \n",
    "    outPath = \"./results/\"\n",
    "    path = \"../../../../Downloads/noord-hollandsarchief-d2fcde(1)/\"\n",
    "    \n",
    "    if not os.path.exists(outPath):\n",
    "        os.makedirs(outPath)\n",
    "\n",
    "    for subdir, dirs, files in os.walk(path):\n",
    "        for image in files:\n",
    "             if image.endswith(\".jpg\"):\n",
    "                    imgPath = os.path.join(subdir, image)\n",
    "                    subdir_ = subdir.split('/')[-1:][0]\n",
    "                    outPath_ = os.path.join(outPath, subdir_ )\n",
    "                    if not os.path.exists(outPath_):\n",
    "                        os.makedirs(outPath_)\n",
    "                    crop_biggest(imgPath, outPath_)  \n",
    "    with open('mistakes.txt', 'w') as f:\n",
    "        for item in mistakes:\n",
    "            f.write(\"%s\\n\" % item)\n",
    "\n",
    "if __name__ == '__main__':\n",
    "    main()"
   ]
  },
  {
   "cell_type": "code",
   "execution_count": null,
   "metadata": {},
   "outputs": [],
   "source": []
  }
 ],
 "metadata": {
  "kernelspec": {
   "display_name": "Python 3",
   "language": "python",
   "name": "python3"
  },
  "language_info": {
   "codemirror_mode": {
    "name": "ipython",
    "version": 3
   },
   "file_extension": ".py",
   "mimetype": "text/x-python",
   "name": "python",
   "nbconvert_exporter": "python",
   "pygments_lexer": "ipython3",
   "version": "3.8.7"
  }
 },
 "nbformat": 4,
 "nbformat_minor": 4
}
