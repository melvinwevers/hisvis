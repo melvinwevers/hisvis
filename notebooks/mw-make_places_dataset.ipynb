{
 "cells": [
  {
   "cell_type": "code",
   "execution_count": 71,
   "metadata": {},
   "outputs": [],
   "source": [
    "import glob\n",
    "import xml\n",
    "from tqdm import tqdm\n",
    "import random\n",
    "import os\n",
    "import shutil\n",
    "import xml.etree.ElementTree as ET"
   ]
  },
  {
   "cell_type": "code",
   "execution_count": 4,
   "metadata": {},
   "outputs": [],
   "source": [
    "def to_parseable(tree):\n",
    "    t = ET.tostring(tree)\n",
    "    t = t.lower()\n",
    "    return ET.fromstring(t)"
   ]
  },
  {
   "cell_type": "code",
   "execution_count": 74,
   "metadata": {},
   "outputs": [],
   "source": [
    "annotation_dir = '../places_annot/'\n",
    "images_dir = '../../../datasets/DeBoer/data/'\n",
    "output_dir = '../places_boer/'"
   ]
  },
  {
   "cell_type": "code",
   "execution_count": 79,
   "metadata": {},
   "outputs": [],
   "source": [
    "annotations = glob.glob(annotation_dir + '*')"
   ]
  },
  {
   "cell_type": "code",
   "execution_count": 81,
   "metadata": {},
   "outputs": [],
   "source": [
    "annotations = annotations[:808]"
   ]
  },
  {
   "cell_type": "code",
   "execution_count": 82,
   "metadata": {},
   "outputs": [],
   "source": [
    "random.seed(666)\n",
    "random.shuffle(annotations)\n",
    "\n",
    "split_1 = int(0.8 * len(annotations))\n",
    "split_2 = int(0.9 * len(annotations))\n",
    "\n",
    "train_annotations = annotations[:split_1]\n",
    "validation_annotations = annotations[split_1:split_2]\n",
    "test_annotations = annotations[split_2:]"
   ]
  },
  {
   "cell_type": "code",
   "execution_count": 85,
   "metadata": {},
   "outputs": [
    {
     "name": "stderr",
     "output_type": "stream",
     "text": [
      "  2%|▏         | 12/646 [00:00<00:05, 114.40it/s]"
     ]
    },
    {
     "name": "stdout",
     "output_type": "stream",
     "text": [
      "processing: 0\n"
     ]
    },
    {
     "name": "stderr",
     "output_type": "stream",
     "text": [
      "100%|██████████| 646/646 [00:05<00:00, 113.22it/s]\n",
      " 14%|█▎        | 11/81 [00:00<00:00, 109.79it/s]"
     ]
    },
    {
     "name": "stdout",
     "output_type": "stream",
     "text": [
      "processing: 1\n"
     ]
    },
    {
     "name": "stderr",
     "output_type": "stream",
     "text": [
      "100%|██████████| 81/81 [00:00<00:00, 106.42it/s]\n",
      " 12%|█▏        | 10/81 [00:00<00:00, 96.86it/s]"
     ]
    },
    {
     "name": "stdout",
     "output_type": "stream",
     "text": [
      "processing: 2\n"
     ]
    },
    {
     "name": "stderr",
     "output_type": "stream",
     "text": [
      "100%|██████████| 81/81 [00:00<00:00, 89.22it/s] \n"
     ]
    }
   ],
   "source": [
    "types_ = ['train', 'test', 'validation']\n",
    "for index, type_ in enumerate(types_):\n",
    "        print(\"processing: {}\".format(index))\n",
    "        \n",
    "        for xml in tqdm([train_annotations,\n",
    "                         test_annotations,\n",
    "                         validation_annotations][index]):\n",
    "            tree = ET.parse(xml).getroot()\n",
    "            tree = to_parseable(tree)\n",
    "            filename = filename = tree.find(\"filename\").text\n",
    "            for elem in tree.iter():\n",
    "                if elem.tag == 'name':\n",
    "                    folder = elem.text\n",
    "            if folder:\n",
    "                os.makedirs(os.path.join(output_dir, type_, folder), exist_ok=True)\n",
    "                shutil.copy(os.path.join(images_dir, filename), os.path.join(output_dir, type_, folder))\n",
    "            else:\n",
    "                pass\n",
    "            "
   ]
  },
  {
   "cell_type": "code",
   "execution_count": 66,
   "metadata": {},
   "outputs": [],
   "source": [
    "tree = ET.parse(annotations[2]).getroot()\n",
    "tree = to_parseable(tree)"
   ]
  },
  {
   "cell_type": "code",
   "execution_count": 67,
   "metadata": {},
   "outputs": [
    {
     "name": "stdout",
     "output_type": "stream",
     "text": [
      "boat_deck\n"
     ]
    }
   ],
   "source": [
    "for elem in tree.iter():\n",
    "    if elem.tag == 'name':\n",
    "        folder = elem.text\n",
    "print(folder)"
   ]
  },
  {
   "cell_type": "code",
   "execution_count": 11,
   "metadata": {},
   "outputs": [
    {
     "data": {
      "text/plain": [
       "['park', 'out']"
      ]
     },
     "execution_count": 11,
     "metadata": {},
     "output_type": "execute_result"
    }
   ],
   "source": [
    "test.split('/')"
   ]
  },
  {
   "cell_type": "code",
   "execution_count": null,
   "metadata": {},
   "outputs": [],
   "source": []
  }
 ],
 "metadata": {
  "kernelspec": {
   "display_name": "Python 3",
   "language": "python",
   "name": "python3"
  },
  "language_info": {
   "codemirror_mode": {
    "name": "ipython",
    "version": 3
   },
   "file_extension": ".py",
   "mimetype": "text/x-python",
   "name": "python",
   "nbconvert_exporter": "python",
   "pygments_lexer": "ipython3",
   "version": "3.7.4"
  }
 },
 "nbformat": 4,
 "nbformat_minor": 2
}
